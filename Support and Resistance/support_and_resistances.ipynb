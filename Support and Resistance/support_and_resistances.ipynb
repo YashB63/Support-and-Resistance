{
 "cells": [
  {
   "cell_type": "code",
   "execution_count": 4,
   "metadata": {},
   "outputs": [],
   "source": [
    "import yfinance as yf\n",
    "import pandas as pd\n",
    "import matplotlib.pyplot as plt\n",
    "import mplfinance as mpf"
   ]
  },
  {
   "cell_type": "code",
   "execution_count": 5,
   "metadata": {},
   "outputs": [
    {
     "name": "stdout",
     "output_type": "stream",
     "text": [
      "[*********************100%***********************]  1 of 1 completed\n"
     ]
    }
   ],
   "source": [
    "df = yf.download('^GSPC', start='2023-1-1')"
   ]
  },
  {
   "cell_type": "code",
   "execution_count": 6,
   "metadata": {},
   "outputs": [
    {
     "data": {
      "text/html": [
       "<div>\n",
       "<style scoped>\n",
       "    .dataframe tbody tr th:only-of-type {\n",
       "        vertical-align: middle;\n",
       "    }\n",
       "\n",
       "    .dataframe tbody tr th {\n",
       "        vertical-align: top;\n",
       "    }\n",
       "\n",
       "    .dataframe thead th {\n",
       "        text-align: right;\n",
       "    }\n",
       "</style>\n",
       "<table border=\"1\" class=\"dataframe\">\n",
       "  <thead>\n",
       "    <tr style=\"text-align: right;\">\n",
       "      <th></th>\n",
       "      <th>Open</th>\n",
       "      <th>High</th>\n",
       "      <th>Low</th>\n",
       "      <th>Close</th>\n",
       "      <th>Adj Close</th>\n",
       "      <th>Volume</th>\n",
       "    </tr>\n",
       "    <tr>\n",
       "      <th>Date</th>\n",
       "      <th></th>\n",
       "      <th></th>\n",
       "      <th></th>\n",
       "      <th></th>\n",
       "      <th></th>\n",
       "      <th></th>\n",
       "    </tr>\n",
       "  </thead>\n",
       "  <tbody>\n",
       "    <tr>\n",
       "      <th>2023-01-03</th>\n",
       "      <td>3853.290039</td>\n",
       "      <td>3878.459961</td>\n",
       "      <td>3794.330078</td>\n",
       "      <td>3824.139893</td>\n",
       "      <td>3824.139893</td>\n",
       "      <td>3959140000</td>\n",
       "    </tr>\n",
       "    <tr>\n",
       "      <th>2023-01-04</th>\n",
       "      <td>3840.360107</td>\n",
       "      <td>3873.159912</td>\n",
       "      <td>3815.770020</td>\n",
       "      <td>3852.969971</td>\n",
       "      <td>3852.969971</td>\n",
       "      <td>4414080000</td>\n",
       "    </tr>\n",
       "    <tr>\n",
       "      <th>2023-01-05</th>\n",
       "      <td>3839.739990</td>\n",
       "      <td>3839.739990</td>\n",
       "      <td>3802.419922</td>\n",
       "      <td>3808.100098</td>\n",
       "      <td>3808.100098</td>\n",
       "      <td>3893450000</td>\n",
       "    </tr>\n",
       "    <tr>\n",
       "      <th>2023-01-06</th>\n",
       "      <td>3823.370117</td>\n",
       "      <td>3906.189941</td>\n",
       "      <td>3809.560059</td>\n",
       "      <td>3895.080078</td>\n",
       "      <td>3895.080078</td>\n",
       "      <td>3923560000</td>\n",
       "    </tr>\n",
       "    <tr>\n",
       "      <th>2023-01-09</th>\n",
       "      <td>3910.820068</td>\n",
       "      <td>3950.570068</td>\n",
       "      <td>3890.419922</td>\n",
       "      <td>3892.090088</td>\n",
       "      <td>3892.090088</td>\n",
       "      <td>4311770000</td>\n",
       "    </tr>\n",
       "    <tr>\n",
       "      <th>...</th>\n",
       "      <td>...</td>\n",
       "      <td>...</td>\n",
       "      <td>...</td>\n",
       "      <td>...</td>\n",
       "      <td>...</td>\n",
       "      <td>...</td>\n",
       "    </tr>\n",
       "    <tr>\n",
       "      <th>2023-06-16</th>\n",
       "      <td>4440.950195</td>\n",
       "      <td>4448.470215</td>\n",
       "      <td>4407.439941</td>\n",
       "      <td>4409.589844</td>\n",
       "      <td>4409.589844</td>\n",
       "      <td>6848600000</td>\n",
       "    </tr>\n",
       "    <tr>\n",
       "      <th>2023-06-20</th>\n",
       "      <td>4396.109863</td>\n",
       "      <td>4400.149902</td>\n",
       "      <td>4367.189941</td>\n",
       "      <td>4388.709961</td>\n",
       "      <td>4388.709961</td>\n",
       "      <td>4055790000</td>\n",
       "    </tr>\n",
       "    <tr>\n",
       "      <th>2023-06-21</th>\n",
       "      <td>4380.009766</td>\n",
       "      <td>4386.220215</td>\n",
       "      <td>4360.140137</td>\n",
       "      <td>4365.689941</td>\n",
       "      <td>4365.689941</td>\n",
       "      <td>3709330000</td>\n",
       "    </tr>\n",
       "    <tr>\n",
       "      <th>2023-06-22</th>\n",
       "      <td>4355.399902</td>\n",
       "      <td>4382.250000</td>\n",
       "      <td>4351.819824</td>\n",
       "      <td>4381.890137</td>\n",
       "      <td>4381.890137</td>\n",
       "      <td>3511000000</td>\n",
       "    </tr>\n",
       "    <tr>\n",
       "      <th>2023-06-23</th>\n",
       "      <td>4354.169922</td>\n",
       "      <td>4366.549805</td>\n",
       "      <td>4341.339844</td>\n",
       "      <td>4348.330078</td>\n",
       "      <td>4348.330078</td>\n",
       "      <td>6053620000</td>\n",
       "    </tr>\n",
       "  </tbody>\n",
       "</table>\n",
       "<p>119 rows × 6 columns</p>\n",
       "</div>"
      ],
      "text/plain": [
       "                   Open         High          Low        Close    Adj Close   \n",
       "Date                                                                          \n",
       "2023-01-03  3853.290039  3878.459961  3794.330078  3824.139893  3824.139893  \\\n",
       "2023-01-04  3840.360107  3873.159912  3815.770020  3852.969971  3852.969971   \n",
       "2023-01-05  3839.739990  3839.739990  3802.419922  3808.100098  3808.100098   \n",
       "2023-01-06  3823.370117  3906.189941  3809.560059  3895.080078  3895.080078   \n",
       "2023-01-09  3910.820068  3950.570068  3890.419922  3892.090088  3892.090088   \n",
       "...                 ...          ...          ...          ...          ...   \n",
       "2023-06-16  4440.950195  4448.470215  4407.439941  4409.589844  4409.589844   \n",
       "2023-06-20  4396.109863  4400.149902  4367.189941  4388.709961  4388.709961   \n",
       "2023-06-21  4380.009766  4386.220215  4360.140137  4365.689941  4365.689941   \n",
       "2023-06-22  4355.399902  4382.250000  4351.819824  4381.890137  4381.890137   \n",
       "2023-06-23  4354.169922  4366.549805  4341.339844  4348.330078  4348.330078   \n",
       "\n",
       "                Volume  \n",
       "Date                    \n",
       "2023-01-03  3959140000  \n",
       "2023-01-04  4414080000  \n",
       "2023-01-05  3893450000  \n",
       "2023-01-06  3923560000  \n",
       "2023-01-09  4311770000  \n",
       "...                ...  \n",
       "2023-06-16  6848600000  \n",
       "2023-06-20  4055790000  \n",
       "2023-06-21  3709330000  \n",
       "2023-06-22  3511000000  \n",
       "2023-06-23  6053620000  \n",
       "\n",
       "[119 rows x 6 columns]"
      ]
     },
     "execution_count": 6,
     "metadata": {},
     "output_type": "execute_result"
    }
   ],
   "source": [
    "df"
   ]
  },
  {
   "cell_type": "code",
   "execution_count": 7,
   "metadata": {},
   "outputs": [
    {
     "data": {
      "text/plain": [
       "Date\n",
       "2023-01-03            NaN\n",
       "2023-01-04            NaN\n",
       "2023-01-05            NaN\n",
       "2023-01-06            NaN\n",
       "2023-01-09    3794.330078\n",
       "                 ...     \n",
       "2023-06-16    4304.370117\n",
       "2023-06-20    4337.850098\n",
       "2023-06-21    4337.850098\n",
       "2023-06-22    4351.819824\n",
       "2023-06-23    4341.339844\n",
       "Name: Low, Length: 119, dtype: float64"
      ]
     },
     "execution_count": 7,
     "metadata": {},
     "output_type": "execute_result"
    }
   ],
   "source": [
    "df.Low.rolling(5).min()"
   ]
  },
  {
   "cell_type": "code",
   "execution_count": 8,
   "metadata": {},
   "outputs": [
    {
     "data": {
      "text/plain": [
       "Date\n",
       "2023-01-03            NaN\n",
       "2023-01-04            NaN\n",
       "2023-01-05    3794.330078\n",
       "2023-01-06    3802.419922\n",
       "2023-01-09    3802.419922\n",
       "                 ...     \n",
       "2023-06-16    4337.850098\n",
       "2023-06-20    4351.819824\n",
       "2023-06-21    4341.339844\n",
       "2023-06-22            NaN\n",
       "2023-06-23            NaN\n",
       "Name: Low, Length: 119, dtype: float64"
      ]
     },
     "execution_count": 8,
     "metadata": {},
     "output_type": "execute_result"
    }
   ],
   "source": [
    "df.Low.rolling(5, center=True).min()"
   ]
  },
  {
   "cell_type": "code",
   "execution_count": 9,
   "metadata": {},
   "outputs": [
    {
     "data": {
      "text/plain": [
       "Date\n",
       "2023-01-03    False\n",
       "2023-01-04    False\n",
       "2023-01-05    False\n",
       "2023-01-06    False\n",
       "2023-01-09    False\n",
       "              ...  \n",
       "2023-06-16    False\n",
       "2023-06-20    False\n",
       "2023-06-21    False\n",
       "2023-06-22    False\n",
       "2023-06-23    False\n",
       "Name: Low, Length: 119, dtype: bool"
      ]
     },
     "execution_count": 9,
     "metadata": {},
     "output_type": "execute_result"
    }
   ],
   "source": [
    "df.Low == df.Low.rolling(5, center=True).min()"
   ]
  },
  {
   "cell_type": "code",
   "execution_count": 10,
   "metadata": {},
   "outputs": [
    {
     "data": {
      "text/html": [
       "<div>\n",
       "<style scoped>\n",
       "    .dataframe tbody tr th:only-of-type {\n",
       "        vertical-align: middle;\n",
       "    }\n",
       "\n",
       "    .dataframe tbody tr th {\n",
       "        vertical-align: top;\n",
       "    }\n",
       "\n",
       "    .dataframe thead th {\n",
       "        text-align: right;\n",
       "    }\n",
       "</style>\n",
       "<table border=\"1\" class=\"dataframe\">\n",
       "  <thead>\n",
       "    <tr style=\"text-align: right;\">\n",
       "      <th></th>\n",
       "      <th>Open</th>\n",
       "      <th>High</th>\n",
       "      <th>Low</th>\n",
       "      <th>Close</th>\n",
       "      <th>Adj Close</th>\n",
       "      <th>Volume</th>\n",
       "    </tr>\n",
       "    <tr>\n",
       "      <th>Date</th>\n",
       "      <th></th>\n",
       "      <th></th>\n",
       "      <th></th>\n",
       "      <th></th>\n",
       "      <th></th>\n",
       "      <th></th>\n",
       "    </tr>\n",
       "  </thead>\n",
       "  <tbody>\n",
       "    <tr>\n",
       "      <th>2023-01-19</th>\n",
       "      <td>3911.840088</td>\n",
       "      <td>3922.939941</td>\n",
       "      <td>3885.540039</td>\n",
       "      <td>3898.850098</td>\n",
       "      <td>3898.850098</td>\n",
       "      <td>3991500000</td>\n",
       "    </tr>\n",
       "    <tr>\n",
       "      <th>2023-01-25</th>\n",
       "      <td>3982.709961</td>\n",
       "      <td>4019.550049</td>\n",
       "      <td>3949.060059</td>\n",
       "      <td>4016.219971</td>\n",
       "      <td>4016.219971</td>\n",
       "      <td>3724020000</td>\n",
       "    </tr>\n",
       "    <tr>\n",
       "      <th>2023-02-10</th>\n",
       "      <td>4068.919922</td>\n",
       "      <td>4094.360107</td>\n",
       "      <td>4060.790039</td>\n",
       "      <td>4090.459961</td>\n",
       "      <td>4090.459961</td>\n",
       "      <td>3891520000</td>\n",
       "    </tr>\n",
       "    <tr>\n",
       "      <th>2023-02-24</th>\n",
       "      <td>3973.239990</td>\n",
       "      <td>3978.250000</td>\n",
       "      <td>3943.080078</td>\n",
       "      <td>3970.040039</td>\n",
       "      <td>3970.040039</td>\n",
       "      <td>3877700000</td>\n",
       "    </tr>\n",
       "    <tr>\n",
       "      <th>2023-03-02</th>\n",
       "      <td>3938.679932</td>\n",
       "      <td>3990.840088</td>\n",
       "      <td>3928.159912</td>\n",
       "      <td>3981.350098</td>\n",
       "      <td>3981.350098</td>\n",
       "      <td>4244900000</td>\n",
       "    </tr>\n",
       "    <tr>\n",
       "      <th>2023-03-13</th>\n",
       "      <td>3835.120117</td>\n",
       "      <td>3905.050049</td>\n",
       "      <td>3808.860107</td>\n",
       "      <td>3855.760010</td>\n",
       "      <td>3855.760010</td>\n",
       "      <td>6558020000</td>\n",
       "    </tr>\n",
       "    <tr>\n",
       "      <th>2023-03-24</th>\n",
       "      <td>3939.209961</td>\n",
       "      <td>3972.739990</td>\n",
       "      <td>3909.159912</td>\n",
       "      <td>3970.989990</td>\n",
       "      <td>3970.989990</td>\n",
       "      <td>4583970000</td>\n",
       "    </tr>\n",
       "    <tr>\n",
       "      <th>2023-04-06</th>\n",
       "      <td>4081.149902</td>\n",
       "      <td>4107.319824</td>\n",
       "      <td>4069.840088</td>\n",
       "      <td>4105.020020</td>\n",
       "      <td>4105.020020</td>\n",
       "      <td>3486690000</td>\n",
       "    </tr>\n",
       "    <tr>\n",
       "      <th>2023-04-26</th>\n",
       "      <td>4087.780029</td>\n",
       "      <td>4089.669922</td>\n",
       "      <td>4049.350098</td>\n",
       "      <td>4055.989990</td>\n",
       "      <td>4055.989990</td>\n",
       "      <td>3837030000</td>\n",
       "    </tr>\n",
       "    <tr>\n",
       "      <th>2023-05-04</th>\n",
       "      <td>4082.550049</td>\n",
       "      <td>4082.610107</td>\n",
       "      <td>4048.280029</td>\n",
       "      <td>4061.219971</td>\n",
       "      <td>4061.219971</td>\n",
       "      <td>4920090000</td>\n",
       "    </tr>\n",
       "    <tr>\n",
       "      <th>2023-05-10</th>\n",
       "      <td>4143.740234</td>\n",
       "      <td>4154.279785</td>\n",
       "      <td>4098.919922</td>\n",
       "      <td>4137.640137</td>\n",
       "      <td>4137.640137</td>\n",
       "      <td>4057160000</td>\n",
       "    </tr>\n",
       "    <tr>\n",
       "      <th>2023-05-24</th>\n",
       "      <td>4132.959961</td>\n",
       "      <td>4132.959961</td>\n",
       "      <td>4103.979980</td>\n",
       "      <td>4115.240234</td>\n",
       "      <td>4115.240234</td>\n",
       "      <td>3739160000</td>\n",
       "    </tr>\n",
       "    <tr>\n",
       "      <th>2023-06-08</th>\n",
       "      <td>4268.689941</td>\n",
       "      <td>4298.009766</td>\n",
       "      <td>4261.069824</td>\n",
       "      <td>4293.930176</td>\n",
       "      <td>4293.930176</td>\n",
       "      <td>3826740000</td>\n",
       "    </tr>\n",
       "  </tbody>\n",
       "</table>\n",
       "</div>"
      ],
      "text/plain": [
       "                   Open         High          Low        Close    Adj Close   \n",
       "Date                                                                          \n",
       "2023-01-19  3911.840088  3922.939941  3885.540039  3898.850098  3898.850098  \\\n",
       "2023-01-25  3982.709961  4019.550049  3949.060059  4016.219971  4016.219971   \n",
       "2023-02-10  4068.919922  4094.360107  4060.790039  4090.459961  4090.459961   \n",
       "2023-02-24  3973.239990  3978.250000  3943.080078  3970.040039  3970.040039   \n",
       "2023-03-02  3938.679932  3990.840088  3928.159912  3981.350098  3981.350098   \n",
       "2023-03-13  3835.120117  3905.050049  3808.860107  3855.760010  3855.760010   \n",
       "2023-03-24  3939.209961  3972.739990  3909.159912  3970.989990  3970.989990   \n",
       "2023-04-06  4081.149902  4107.319824  4069.840088  4105.020020  4105.020020   \n",
       "2023-04-26  4087.780029  4089.669922  4049.350098  4055.989990  4055.989990   \n",
       "2023-05-04  4082.550049  4082.610107  4048.280029  4061.219971  4061.219971   \n",
       "2023-05-10  4143.740234  4154.279785  4098.919922  4137.640137  4137.640137   \n",
       "2023-05-24  4132.959961  4132.959961  4103.979980  4115.240234  4115.240234   \n",
       "2023-06-08  4268.689941  4298.009766  4261.069824  4293.930176  4293.930176   \n",
       "\n",
       "                Volume  \n",
       "Date                    \n",
       "2023-01-19  3991500000  \n",
       "2023-01-25  3724020000  \n",
       "2023-02-10  3891520000  \n",
       "2023-02-24  3877700000  \n",
       "2023-03-02  4244900000  \n",
       "2023-03-13  6558020000  \n",
       "2023-03-24  4583970000  \n",
       "2023-04-06  3486690000  \n",
       "2023-04-26  3837030000  \n",
       "2023-05-04  4920090000  \n",
       "2023-05-10  4057160000  \n",
       "2023-05-24  3739160000  \n",
       "2023-06-08  3826740000  "
      ]
     },
     "execution_count": 10,
     "metadata": {},
     "output_type": "execute_result"
    }
   ],
   "source": [
    "df[df.Low == df.Low.rolling(5, center=True).min()]"
   ]
  },
  {
   "cell_type": "code",
   "execution_count": 11,
   "metadata": {},
   "outputs": [],
   "source": [
    "supports = df[df.Low == df.Low.rolling(5, center=True).min()].Low\n",
    "resistances = df[df.High == df.High.rolling(5, center=True).max()].High"
   ]
  },
  {
   "cell_type": "code",
   "execution_count": 12,
   "metadata": {},
   "outputs": [
    {
     "data": {
      "text/plain": [
       "Date\n",
       "2023-01-19    3885.540039\n",
       "2023-01-25    3949.060059\n",
       "2023-02-10    4060.790039\n",
       "2023-02-24    3943.080078\n",
       "2023-03-02    3928.159912\n",
       "2023-03-13    3808.860107\n",
       "2023-03-24    3909.159912\n",
       "2023-04-06    4069.840088\n",
       "2023-04-26    4049.350098\n",
       "2023-05-04    4048.280029\n",
       "2023-05-10    4098.919922\n",
       "2023-05-24    4103.979980\n",
       "2023-06-08    4261.069824\n",
       "Name: Low, dtype: float64"
      ]
     },
     "execution_count": 12,
     "metadata": {},
     "output_type": "execute_result"
    }
   ],
   "source": [
    "supports"
   ]
  },
  {
   "cell_type": "code",
   "execution_count": 13,
   "metadata": {},
   "outputs": [
    {
     "data": {
      "text/plain": [
       "Date\n",
       "2023-01-17    4015.389893\n",
       "2023-01-23    4039.310059\n",
       "2023-01-27    4094.209961\n",
       "2023-02-02    4195.439941\n",
       "2023-02-14    4159.770020\n",
       "2023-03-06    4078.489990\n",
       "2023-03-16    3964.459961\n",
       "2023-03-22    4039.489990\n",
       "2023-04-04    4133.129883\n",
       "2023-04-18    4169.479980\n",
       "2023-05-01    4186.919922\n",
       "2023-05-10    4154.279785\n",
       "2023-05-19    4212.910156\n",
       "2023-06-05    4299.279785\n",
       "2023-06-16    4448.470215\n",
       "Name: High, dtype: float64"
      ]
     },
     "execution_count": 13,
     "metadata": {},
     "output_type": "execute_result"
    }
   ],
   "source": [
    "resistances"
   ]
  },
  {
   "cell_type": "code",
   "execution_count": 14,
   "metadata": {},
   "outputs": [],
   "source": [
    "levels = pd.concat([supports, resistances])"
   ]
  },
  {
   "cell_type": "code",
   "execution_count": 15,
   "metadata": {},
   "outputs": [
    {
     "data": {
      "text/plain": [
       "Date\n",
       "2023-01-19           NaN\n",
       "2023-01-25     63.520020\n",
       "2023-02-10    111.729980\n",
       "2023-02-24   -117.709961\n",
       "2023-03-02    -14.920166\n",
       "2023-03-13   -119.299805\n",
       "2023-03-24    100.299805\n",
       "2023-04-06    160.680176\n",
       "2023-04-26    -20.489990\n",
       "2023-05-04     -1.070068\n",
       "2023-05-10     50.639893\n",
       "2023-05-24      5.060059\n",
       "2023-06-08    157.089844\n",
       "2023-01-17   -245.679932\n",
       "2023-01-23     23.920166\n",
       "2023-01-27     54.899902\n",
       "2023-02-02    101.229980\n",
       "2023-02-14    -35.669922\n",
       "2023-03-06    -81.280029\n",
       "2023-03-16   -114.030029\n",
       "2023-03-22     75.030029\n",
       "2023-04-04     93.639893\n",
       "2023-04-18     36.350098\n",
       "2023-05-01     17.439941\n",
       "2023-05-10    -32.640137\n",
       "2023-05-19     58.630371\n",
       "2023-06-05     86.369629\n",
       "2023-06-16    149.190430\n",
       "dtype: float64"
      ]
     },
     "execution_count": 15,
     "metadata": {},
     "output_type": "execute_result"
    }
   ],
   "source": [
    "levels.diff()"
   ]
  },
  {
   "cell_type": "code",
   "execution_count": 16,
   "metadata": {},
   "outputs": [
    {
     "data": {
      "text/plain": [
       "Date\n",
       "2023-01-19           NaN\n",
       "2023-01-25     63.520020\n",
       "2023-02-10    111.729980\n",
       "2023-02-24    117.709961\n",
       "2023-03-02     14.920166\n",
       "2023-03-13    119.299805\n",
       "2023-03-24    100.299805\n",
       "2023-04-06    160.680176\n",
       "2023-04-26     20.489990\n",
       "2023-05-04      1.070068\n",
       "2023-05-10     50.639893\n",
       "2023-05-24      5.060059\n",
       "2023-06-08    157.089844\n",
       "2023-01-17    245.679932\n",
       "2023-01-23     23.920166\n",
       "2023-01-27     54.899902\n",
       "2023-02-02    101.229980\n",
       "2023-02-14     35.669922\n",
       "2023-03-06     81.280029\n",
       "2023-03-16    114.030029\n",
       "2023-03-22     75.030029\n",
       "2023-04-04     93.639893\n",
       "2023-04-18     36.350098\n",
       "2023-05-01     17.439941\n",
       "2023-05-10     32.640137\n",
       "2023-05-19     58.630371\n",
       "2023-06-05     86.369629\n",
       "2023-06-16    149.190430\n",
       "dtype: float64"
      ]
     },
     "execution_count": 16,
     "metadata": {},
     "output_type": "execute_result"
    }
   ],
   "source": [
    "abs(levels.diff())"
   ]
  },
  {
   "cell_type": "code",
   "execution_count": 17,
   "metadata": {},
   "outputs": [],
   "source": [
    "levels = pd.concat([supports, resistances])"
   ]
  },
  {
   "cell_type": "code",
   "execution_count": 19,
   "metadata": {},
   "outputs": [],
   "source": [
    "levels = levels[abs(levels.diff()) > 100]"
   ]
  },
  {
   "cell_type": "code",
   "execution_count": 21,
   "metadata": {},
   "outputs": [
    {
     "data": {
      "text/plain": [
       "Date\n",
       "2023-02-10    4060.790039\n",
       "2023-02-24    3943.080078\n",
       "2023-03-13    3808.860107\n",
       "2023-03-24    3909.159912\n",
       "2023-04-06    4069.840088\n",
       "2023-06-08    4261.069824\n",
       "2023-01-17    4015.389893\n",
       "2023-02-02    4195.439941\n",
       "2023-03-16    3964.459961\n",
       "2023-06-16    4448.470215\n",
       "dtype: float64"
      ]
     },
     "execution_count": 21,
     "metadata": {},
     "output_type": "execute_result"
    }
   ],
   "source": [
    "levels"
   ]
  },
  {
   "cell_type": "code",
   "execution_count": 20,
   "metadata": {},
   "outputs": [
    {
     "data": {
      "image/png": "[encoded data removed]",
      "text/plain": [
       "<Figure size 800x575 with 2 Axes>"
      ]
     },
     "metadata": {},
     "output_type": "display_data"
    }
   ],
   "source": [
    "mpf.plot(df, type='candle', hlines=levels.to_list(), style='charles')"
   ]
  },
  {
   "cell_type": "code",
   "execution_count": 24,
   "metadata": {},
   "outputs": [
    {
     "data": {
      "text/plain": [
       "<matplotlib.collections.LineCollection at 0x1f420fe95d0>"
      ]
     },
     "execution_count": 24,
     "metadata": {},
     "output_type": "execute_result"
    },
    {
     "data": {
      "image/png": "[encoded data removed]",
      "text/plain": [
       "<Figure size 640x480 with 1 Axes>"
      ]
     },
     "metadata": {},
     "output_type": "display_data"
    }
   ],
   "source": [
    "df.High.plot()\n",
    "df.Close.plot()\n",
    "df.Low.plot()\n",
    "plt.hlines(levels, xmin=levels.index, xmax=df.index[-1], colors='red')"
   ]
  }
 ],
 "metadata": {
  "kernelspec": {
   "display_name": "Python 3",
   "language": "python",
   "name": "python3"
  },
  "language_info": {
   "codemirror_mode": {
    "name": "ipython",
    "version": 3
   },
   "file_extension": ".py",
   "mimetype": "text/x-python",
   "name": "python",
   "nbconvert_exporter": "python",
   "pygments_lexer": "ipython3",
   "version": "3.11.3"
  },
  "orig_nbformat": 4
 },
 "nbformat": 4,
 "nbformat_minor": 2
}
